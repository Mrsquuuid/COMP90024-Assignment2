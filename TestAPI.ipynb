{
 "cells": [
  {
   "cell_type": "markdown",
   "metadata": {},
   "source": [
    "# Streamer"
   ]
  },
  {
   "cell_type": "code",
   "execution_count": null,
   "metadata": {},
   "outputs": [],
   "source": [
    "import tweepy\n",
    "from tweepy import OAuthHandler, Stream, StreamListener\n",
    "\n",
    "consumer_key = 'DiupUPPdWhQCFYnxnAMcvfc6w'\n",
    "consumer_secret = 'yFzVytPb2e578SftOTFvT5jMy8gDmvsZ2fig0zRBwTCYmejNxO'\n",
    "access_token = '1382612385425346560-PunO5ydjYibtbbPFHUasHzkkthEUDt'\n",
    "access_token_secret = 'qeBhPIF9dosqsUToEiG6EHa0ufxeXnzUAmcUdAj7skOGT'\n",
    "\n",
    "auth = tweepy.OAuthHandler(consumer_key, consumer_secret)\n",
    "auth.set_access_token(access_token, access_token_secret)\n",
    "\n",
    "api = tweepy.API(auth, wait_on_rate_limit=True, wait_on_rate_limit_notify=True)\n",
    "\n",
    "class StdOutListener(StreamListener):\n",
    "    '''\n",
    "    A Listerner handles tweets that are received from the stream.\n",
    "    This is a basic listener that just prints received tweets to stdout.\n",
    "    '''\n",
    "    def on_data(self, data):\n",
    "        print(data)\n",
    "        return True\n",
    "\n",
    "    def on_error(self, status):\n",
    "        print(status)\n",
    "\n",
    "\n",
    "if __name__ == '__main__':\n",
    "    listener = StdOutListener()\n",
    "    auth = OAuthHandler(consumer_key, consumer_secret)\n",
    "    auth.set_access_token(access_token, access_token_secret)\n",
    "\n",
    "    stream = Stream(auth, listener, verify = False)\n",
    "    stream.filter(track=['melbourne'])\n",
    "    \n"
   ]
  },
  {
   "cell_type": "markdown",
   "metadata": {},
   "source": [
    "# TextBlob Testing"
   ]
  },
  {
   "cell_type": "code",
   "execution_count": null,
   "metadata": {},
   "outputs": [],
   "source": [
    "import nltk\n",
    "from textblob import TextBlob"
   ]
  },
  {
   "cell_type": "code",
   "execution_count": null,
   "metadata": {},
   "outputs": [],
   "source": [
    "sentiment_1 = TextBlob(\"I hate cars\")\n",
    "print(format(sentiment_1.sentiment)) # very subjective and negative"
   ]
  },
  {
   "cell_type": "markdown",
   "metadata": {},
   "source": [
    "# Searcher"
   ]
  },
  {
   "cell_type": "code",
   "execution_count": null,
   "metadata": {},
   "outputs": [],
   "source": [
    "import tweepy\n",
    "\n",
    "consumer_key = 'DiupUPPdWhQCFYnxnAMcvfc6w'\n",
    "consumer_secret = 'yFzVytPb2e578SftOTFvT5jMy8gDmvsZ2fig0zRBwTCYmejNxO'\n",
    "access_token = '1382612385425346560-PunO5ydjYibtbbPFHUasHzkkthEUDt'\n",
    "access_token_secret = 'qeBhPIF9dosqsUToEiG6EHa0ufxeXnzUAmcUdAj7skOGT'\n",
    "\n",
    "auth = tweepy.OAuthHandler(consumer_key, consumer_secret)\n",
    "auth.set_access_token(access_token, access_token_secret)\n",
    "api = tweepy.API(auth, wait_on_rate_limit=True, wait_on_rate_limit_notify=True)"
   ]
  },
  {
   "cell_type": "code",
   "execution_count": null,
   "metadata": {},
   "outputs": [],
   "source": [
    "# search_words = [\"covid-19\", \"covid19\", \"coronavirus\"]\n",
    "# search_words = [\"Astrazenca\", \"Prfizer\", \"Novavax\", \"COVAX\", \"Moderna\"]\n",
    "tweets = tweepy.Cursor(api.search,\n",
    "                       geocode=\"-37.999250,144.997395,57km\",\n",
    "                       lang=\"en\").items(1000)\n",
    "count = 0\n",
    "for tweet in tweets:\n",
    "    if tweet.coordinates != None:\n",
    "        count += 1\n",
    "        print(tweet.text, tweet.created_at, tweet.coordinates, tweet.user.location, tweet.user.geo_enabled)\n",
    "        analysis = TextBlob(tweet.text)\n",
    "        print(analysis.sentiment)\n",
    "print(count)"
   ]
  },
  {
   "cell_type": "code",
   "execution_count": null,
   "metadata": {},
   "outputs": [],
   "source": [
    "import numpy as np\n",
    "import pandas as pd"
   ]
  },
  {
   "cell_type": "code",
   "execution_count": null,
   "metadata": {},
   "outputs": [],
   "source": [
    "tweet_lst = []\n",
    "geoc = \"-37.999250,144.997395,57km\"\n",
    "for tweet in tweepy.Cursor(api.search,geocode=geoc).items(1000):\n",
    "    tweetDate = tweet.created_at.date()\n",
    "    if(tweet.coordinates !=None):tweet_lst.append([tweetDate,tweet.id,tweet.coordinates['coordinates'][0],\n",
    "        tweet.coordinates['coordinates'][1],\n",
    "        tweet.user.screen_name,\n",
    "        tweet.user.name, tweet.text,\n",
    "        tweet.user._json['geo_enabled']])\n",
    "tweet_df = pd.DataFrame(tweet_lst, columns=['tweet_dt', 'id', 'lat','long','username', 'name', 'tweet','geo'])"
   ]
  },
  {
   "cell_type": "code",
   "execution_count": null,
   "metadata": {},
   "outputs": [],
   "source": [
    "tweet_df"
   ]
  }
 ],
 "metadata": {
  "kernelspec": {
   "display_name": "Python 3",
   "language": "python",
   "name": "python3"
  },
  "language_info": {
   "codemirror_mode": {
    "name": "ipython",
    "version": 3
   },
   "file_extension": ".py",
   "mimetype": "text/x-python",
   "name": "python",
   "nbconvert_exporter": "python",
   "pygments_lexer": "ipython3",
   "version": "3.8.3"
  }
 },
 "nbformat": 4,
 "nbformat_minor": 4
}
